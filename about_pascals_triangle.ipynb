{
  "nbformat": 4,
  "nbformat_minor": 0,
  "metadata": {
    "kernelspec": {
      "display_name": "Python 3",
      "language": "python",
      "name": "python3"
    },
    "language_info": {
      "codemirror_mode": {
        "name": "ipython",
        "version": 3
      },
      "file_extension": ".py",
      "mimetype": "text/x-python",
      "name": "python",
      "nbconvert_exporter": "python",
      "pygments_lexer": "ipython3",
      "version": "3.6.11"
    },
    "colab": {
      "name": "about_pascals_triangle.ipynb",
      "provenance": [],
      "collapsed_sections": [],
      "include_colab_link": true
    }
  },
  "cells": [
    {
      "cell_type": "markdown",
      "metadata": {
        "id": "view-in-github",
        "colab_type": "text"
      },
      "source": [
        "<a href=\"https://colab.research.google.com/github/JNestman/cse380-notebooks/blob/master/about_pascals_triangle.ipynb\" target=\"_parent\"><img src=\"https://colab.research.google.com/assets/colab-badge.svg\" alt=\"Open In Colab\"/></a>"
      ]
    },
    {
      "cell_type": "markdown",
      "metadata": {
        "id": "N82_t5yGBNoc"
      },
      "source": [
        "# About Pascal’s Triangle\n",
        "## Class Directed Learning\n",
        "### Due: Tuesday, 2 February 2021, 11:59 pm"
      ]
    },
    {
      "cell_type": "markdown",
      "metadata": {
        "id": "5YJPUK05BNoh"
      },
      "source": [
        "## A Helper Function\n",
        "Exercise 253 on page 161 shows a recursive definition of `nCk`. Here's a much more efficient way to compute binomial coefficients, which perhaps you can profitably use in your investigations:\n"
      ]
    },
    {
      "cell_type": "code",
      "metadata": {
        "id": "aXw9FJH8BNoh"
      },
      "source": [
        "from math import gcd\n",
        "\n",
        "def nCk(n, k):\n",
        "  if k < 0 or k > n:\n",
        "    return 0\n",
        "  else:\n",
        "    result = 1\n",
        "    d = 1\n",
        "    g = 1\n",
        "    m = min(k, n - k)\n",
        "    while (d <= m):\n",
        "      g = gcd(result, d)\n",
        "      result = n * (result // g)\n",
        "      result = (result // (d // g))\n",
        "      n -= 1\n",
        "      d += 1\n",
        "    return result"
      ],
      "execution_count": 1,
      "outputs": []
    },
    {
      "cell_type": "markdown",
      "metadata": {
        "id": "fx6H35K-BNoi"
      },
      "source": [
        "## Predominant and Fundamental\n",
        "The predominant pattern, the fundamental symmetry in Pascal's triangle is captured by the identity:\n",
        "$${n \\choose k} = {n \\choose n - k}$$\n",
        "## Identify Identities\n",
        "Here are two different identities that point out the same pattern in Pascal's triangle. What is the name of this pattern?\n",
        "### Identity 1\n",
        "For nonnegative integers $r$ and $n$:\n",
        "$$\\sum^n_{k=0} {r+k \\choose k} = {r+n+1 \\choose n}$$\n",
        "### Identity 2\n",
        "For nonnegative integers $m$ and $n$:\n",
        "$$\\sum^n_{k=0} {k \\choose m} = {n+1 \\choose m+1}$$"
      ]
    },
    {
      "cell_type": "markdown",
      "metadata": {
        "id": "cqaaQ1g2BNoi"
      },
      "source": [
        "# Investigate A Possible Relationship\n",
        "Does any row in Pascal's Triangle have the Fibonacci numbers' relationship between three consecutive entries? In other words, where x, y, and z are three consecutive entries in a single row, does x + y = z?\n",
        "\n",
        "  The number of rows where this relationship could possibly hold is:\n",
        "  - [ ] Zero.\n",
        "  - [X] At least one.\n",
        "  - [ ] At most one.\n",
        "  - [ ] Exactly one.\n",
        "  - [ ] It cannot be determined."
      ]
    },
    {
      "cell_type": "code",
      "metadata": {
        "id": "zeGikih6BNoi",
        "outputId": "ad523788-4e79-469c-bb0c-1040372a58a2",
        "colab": {
          "base_uri": "https://localhost:8080/"
        }
      },
      "source": [
        "#collaboration with Chase Wilcox\n",
        "def printRow(myrange):\n",
        "    num = myrange\n",
        "    t_array = []\n",
        "    for y in range(myrange + 1):\n",
        "        t_array.append(nCk(num, y))\n",
        "        \n",
        "    return t_array\n",
        "\n",
        "p_array = []\n",
        "for x in range(1000):\n",
        "    p_array.append(printRow(x))\n",
        "    \n",
        "#print(p_array[0])\n",
        "#print(p_array[1])\n",
        "#fibArray = [0, 1, 1, 2, 3, 5, 8, 13]\n",
        "\n",
        "def check_seq(l):\n",
        "    \n",
        "    count = 0\n",
        "    if (len(l) > 2):\n",
        "        x = 0\n",
        "        while x < len(l) - 2:\n",
        "            if (l[x + 2] == l[x] + l[x + 1]):\n",
        "                count += 1\n",
        "                \n",
        "            x += 1\n",
        "    \n",
        "    return count\n",
        "            \n",
        "#print(check_seq(fibArray))\n",
        "    \n",
        "fibCount = 0\n",
        "for x in range(len(p_array)):\n",
        "    fibCount += check_seq(p_array[x])\n",
        "    \n",
        "print(fibCount)\n",
        "                "
      ],
      "execution_count": 2,
      "outputs": [
        {
          "output_type": "stream",
          "text": [
            "3\n"
          ],
          "name": "stdout"
        }
      ]
    },
    {
      "cell_type": "markdown",
      "metadata": {
        "id": "1LvKG-1LBNoj"
      },
      "source": [
        "# Investigate Another Possible Relationship\n",
        "Does any row in Pascal's Triangle have three consecutive entries in the ratio 1:2:3? (12:24:36 is an example of three numbers in a 1:2:3 ratio.)?\n",
        "\n",
        "  The number of rows where this relationship could possibly hold is:\n",
        "  - [ ] Zero.\n",
        "  - [X] At least one.\n",
        "  - [ ] At most one.\n",
        "  - [ ] Exactly one.\n",
        "  - [ ] It cannot be determined."
      ]
    },
    {
      "cell_type": "code",
      "metadata": {
        "id": "RAIUijwpBNok",
        "outputId": "b6c370e9-7b46-4e3b-f830-a3df543845ef",
        "colab": {
          "base_uri": "https://localhost:8080/"
        }
      },
      "source": [
        "def printRow(myrange):    \n",
        "    num = myrange\n",
        "    t_array = []\n",
        "    for y in range(myrange + 1):\n",
        "        t_array.append(nCk(num, y))\n",
        "        \n",
        "    return t_array\n",
        "\n",
        "p_array = []\n",
        "for x in range(100):\n",
        "    p_array.append(printRow(x))\n",
        "    \n",
        "#fibArray = [0, 1, 1, 2, 3, 5, 8, 13]\n",
        "\n",
        "def check_seq(l):\n",
        "    \n",
        "    count = 0\n",
        "    if (len(l) > 2):\n",
        "        x = 0\n",
        "        while x < len(l) - 2:\n",
        "            if (((l[x+1] % l[x]) == 0) and ((l[x+2] % l[x]) == 0)):\n",
        "                count += 1\n",
        "                \n",
        "            x += 1\n",
        "    \n",
        "    return count\n",
        "            \n",
        "#print(check_seq(fibArray))\n",
        "    \n",
        "fibCount = 0\n",
        "for x in range(len(p_array)):\n",
        "    fibCount += check_seq(p_array[x])\n",
        "    \n",
        "print(fibCount)"
      ],
      "execution_count": 3,
      "outputs": [
        {
          "output_type": "stream",
          "text": [
            "184\n"
          ],
          "name": "stdout"
        }
      ]
    },
    {
      "cell_type": "code",
      "metadata": {
        "id": "IdptkXzNBNok"
      },
      "source": [
        ""
      ],
      "execution_count": 3,
      "outputs": []
    },
    {
      "cell_type": "markdown",
      "metadata": {
        "id": "N5jgUINUPkGY"
      },
      "source": [
        "# Feedback"
      ]
    },
    {
      "cell_type": "markdown",
      "metadata": {
        "id": "FckDoydOPj3X"
      },
      "source": [
        "Your code is only sufficient to prove that one exists. What about more than one?"
      ]
    }
  ]
}