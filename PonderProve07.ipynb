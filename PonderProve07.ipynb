{
  "nbformat": 4,
  "nbformat_minor": 0,
  "metadata": {
    "colab": {
      "name": "PonderProve07.ipynb",
      "provenance": [],
      "authorship_tag": "ABX9TyM3Ts90fHuMf+vku4H34J12",
      "include_colab_link": true
    },
    "kernelspec": {
      "name": "python3",
      "display_name": "Python 3"
    }
  },
  "cells": [
    {
      "cell_type": "markdown",
      "metadata": {
        "id": "view-in-github",
        "colab_type": "text"
      },
      "source": [
        "<a href=\"https://colab.research.google.com/github/JNestman/cse380-notebooks/blob/master/PonderProve07.ipynb\" target=\"_parent\"><img src=\"https://colab.research.google.com/assets/colab-badge.svg\" alt=\"Open In Colab\"/></a>"
      ]
    },
    {
      "cell_type": "markdown",
      "metadata": {
        "id": "ObC7JXRRwp-c"
      },
      "source": [
        "# Explore Fermat’s Little Theorem Further\r\n",
        "Fermat’s Little Theorem (FLT) says that if N is prime, then N divides XN - X.\r\n",
        "\r\n",
        "\r\n",
        "Remember, the contrapositive of the conditional statement in this theorem is that if N doesn’t divide XN - X for some X, then N can’t be prime.\r\n",
        "Unfortunately, this simple primality test doesn’t always work, because it can be fooled by pseudoprimes.\r\n",
        "\r\n",
        "341 = 11 · 31 is not prime. But 341 does divide 2341 - 2.\r\n",
        "\r\n",
        "print((pow(2, 341) - 2) % 341)\r\n",
        "\r\n",
        "0\r\n",
        "\r\n",
        "So 341 is a base-2 pseudoprime. What about base-3?\r\n",
        "\r\n",
        "print((pow(3, 341) - 3) % 341)\r\n",
        "\r\n",
        "165\r\n",
        "\r\n",
        "So 341 is not a base-3 pseudoprime.\r\n",
        "\r\n",
        "Are there any other bases that will not fool the FLT test for 341?\r\n",
        "\r\n",
        "Are there any pseudoprimes that will fool the FLT for any choice of base coprime to them?\r\n",
        "\r\n",
        "Yes! Your task is the find the first 4-digit bullet-proof pseudoprime (bppp) and prove\r\n",
        "(yes, PROVE) that it will fool the FLT test for every base coprime to it. Your proof must\r\n",
        "use all of the following:\r\n",
        "1. the definition of coprime,\r\n",
        "2. a consequence of coprimality,\r\n",
        "3. the factorization of the bppp,\r\n",
        "4. FLT, and the\r\n",
        "5. CRT (Chinese Remainder Theorem).\r\n"
      ]
    },
    {
      "cell_type": "code",
      "metadata": {
        "colab": {
          "base_uri": "https://localhost:8080/"
        },
        "id": "duYw8BX3wih7",
        "outputId": "42afe4e5-db2b-44ae-c5d4-af9103955e0d"
      },
      "source": [
        "# Actually, there are only 9000 4-digit numbers,\r\n",
        "# so how hard can it be to look at all of them?\r\n",
        "\r\n",
        "# But even better, since we want the smallest *bppp*,\r\n",
        "# we can stop as soon as we find it!\r\n",
        "\r\n",
        "from math import gcd\r\n",
        "from sympy import isprime\r\n",
        "\r\n",
        "def passes_FLT_test_even_though_not_prime(b, n):\r\n",
        "  # primes don't count as pseudoprimes\r\n",
        "  return not isprime(n) and (b ** n) % n == b\r\n",
        "\r\n",
        "def is_bppp(n):\r\n",
        "  bases_coprime_to_n = [b for b in range(2, n) if gcd(b, n) == 1]\r\n",
        "  return all(list(map(lambda b: passes_FLT_test_even_though_not_prime(b, n), \r\n",
        "                      bases_coprime_to_n)))\r\n",
        "\r\n",
        "n = 1000\r\n",
        "while not is_bppp(n):\r\n",
        "  n += 1\r\n",
        "\r\n",
        "n"
      ],
      "execution_count": 1,
      "outputs": [
        {
          "output_type": "execute_result",
          "data": {
            "text/plain": [
              "1105"
            ]
          },
          "metadata": {
            "tags": []
          },
          "execution_count": 1
        }
      ]
    },
    {
      "cell_type": "markdown",
      "metadata": {
        "id": "on2SKDVGHKCg"
      },
      "source": [
        "# Proof\r\n",
        "\r\n",
        "\r\n",
        "\r\n",
        "1.   The function produces 1105 as the first four digit **bppp** and we are out to prove that 1105 will fool the FTL test for every base coprime to it.\r\n",
        "2.   1105 is a composite number, 1105 = 5 * 13 * 17\r\n",
        "\r\n",
        "3. For some number $n$, if gcd( n , 1105) = 1, then gcd( n , 5) = gcd( n , 13) = gcd( n , 17) = 1.\r\n",
        "\r\n",
        "4. By FML these facts follow:\r\n",
        "  1. $n^{4} \\equiv_5 1$\r\n",
        "  2. $n^{12} \\equiv_{13} 1$\r\n",
        "  3. $n^{16} \\equiv_{17} 1$\r\n",
        "\r\n",
        "5. Because 1104 is 1 less than 1105, and is also a multiple of 4, 12, and 16 --- which are 1 less than 5, 13, and 17 --- it follows that:\r\n",
        "\r\n",
        "$(n^4)^{276} = n^{1104} \\equiv_{5} 1$\r\n",
        "\r\n",
        "$(n^{12})^{92} = n^{1104} \\equiv_{13} 1$\r\n",
        "\r\n",
        "$(n^{16})^{69} = n^{1104} \\equiv_{17} 1$\r\n",
        "\r\n",
        "Therefore, $b^{1104} \\equiv_{1105} 1$.\r\n",
        "\r\n",
        "6. 1105 and 1104 are coprime numbers.\r\n",
        "\r\n",
        "7. The Chinese remainder theorem states that if the $n_i$ are coprime, and if $a_1$, ..., $a_k$ are integers such that 0 ≤ $a_i$ < $n_i$ for every $i$, then there is one and only one integer $x$, such that 0 ≤ $x$ < $N$ and the remainder of the Euclidean division of $x$ by $n_i$ is $a_i$ for every $i$\r\n",
        "\r\n",
        "8. It follows that every base coprime of 1105 will also fool the the FTL test.\r\n"
      ]
    }
  ]
}