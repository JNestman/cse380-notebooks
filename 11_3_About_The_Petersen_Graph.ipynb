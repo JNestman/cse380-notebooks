{
  "nbformat": 4,
  "nbformat_minor": 0,
  "metadata": {
    "colab": {
      "name": "11_3_About_The_Petersen_Graph.ipynb",
      "provenance": []
    },
    "kernelspec": {
      "name": "python3",
      "display_name": "Python 3"
    }
  },
  "cells": [
    {
      "cell_type": "markdown",
      "metadata": {
        "id": "0lYSr_8JNUpQ"
      },
      "source": [
        "# About The Petersen Graph\n",
        "## Class Directed Learning\n",
        "### Due: Tuesday, 16 March 2021, 11:59 pm"
      ]
    },
    {
      "cell_type": "markdown",
      "metadata": {
        "id": "0PuwZHqzNfTa"
      },
      "source": [
        "## TODO Explore and Wonder"
      ]
    },
    {
      "cell_type": "markdown",
      "metadata": {
        "id": "Gsu1FnbuNptP"
      },
      "source": [
        "The Petersen graph is described as the complement of the line graph of $K_5$.\n",
        "\n",
        "Draw each step of this construction using any graph-drawing tools in your toolbox.\n",
        "\n",
        "Teach one another how to use the tools you each have."
      ]
    },
    {
      "cell_type": "markdown",
      "metadata": {
        "id": "o4cDRkWW5rN1"
      },
      "source": [
        "Collaborators for CDL: Durid Ahmad and Jarom Lybbert\r\n",
        "\r\n",
        "Original code written by Bretton Steiner"
      ]
    },
    {
      "cell_type": "code",
      "metadata": {
        "id": "h8PQC_H07Hul"
      },
      "source": [
        "class GraphNode():\r\n",
        "  def __init__(self, value = 0, links = []):\r\n",
        "    self.value = value\r\n",
        "    self.links = links\r\n",
        "\r\n",
        "  def is_link(self, neighbor_value):\r\n",
        "    if neighbor_value in links:\r\n",
        "      return True\r\n",
        "    return False\r\n",
        "\r\n",
        "  def add_link(self, neighbor_value):\r\n",
        "    if not neighbor_value in self.links:\r\n",
        "      self.links.append(neighbor_value)\r\n",
        "\r\n",
        "  def remove_link(self, neighbor_value):\r\n",
        "    link.remove(neighbor_value)\r\n",
        "\r\n",
        "  def __eq__(self, node):\r\n",
        "    return self.value == node.value and set(self.links) == set(node.links)"
      ],
      "execution_count": 1,
      "outputs": []
    },
    {
      "cell_type": "code",
      "metadata": {
        "id": "NS0F4SKs6M4r"
      },
      "source": [
        "class Graph():\r\n",
        "  def __init__(self, nodes = [], links = []):\r\n",
        "    self.nodes = []\r\n",
        "    for node in nodes:\r\n",
        "      adjacent_nodes = [link[1] for link in links if link[0] == node] + [link[0] for link in links if link[1] == node]\r\n",
        "      self.nodes.append(GraphNode(node, adjacent_nodes))\r\n",
        "\r\n",
        "  def get_node(self, node_value):\r\n",
        "    return next(graphNode for graphNode in self.nodes if graphNode.value == node_value)\r\n",
        "\r\n",
        "  def get_nodes(self):\r\n",
        "    return [node.value for node in self.nodes]\r\n",
        "\r\n",
        "  def get_links(self):\r\n",
        "    links = [str(adj_list[0]) + str(adjacent_node) for adj_list in self.get_adjacency_list() for adjacent_node in adj_list[1]]\r\n",
        "    return list(set(tuple(sorted(link)) for link in links))\r\n",
        "\r\n",
        "  def get_adjacent_nodes(self, node_value):\r\n",
        "    node = self.get_node(node_value)\r\n",
        "    return (node.value, node.links)\r\n",
        "\r\n",
        "  def get_adjacency_list(self):\r\n",
        "    return [(graphNode.value, graphNode.links) for graphNode in self.nodes]\r\n",
        "\r\n",
        "  def is_adjacent(self, node_from, node_to):\r\n",
        "    self.add_node(node_from)\r\n",
        "    node = self.get_node(node_from)\r\n",
        "    return node.is_link(node_to)\r\n",
        "\r\n",
        "  def add_node(self, node_value, links = []):\r\n",
        "    if not node_value in self.get_nodes():\r\n",
        "      self.nodes.append(GraphNode(node_value, links))\r\n",
        "\r\n",
        "  def add_link(self, node_from, node_to):\r\n",
        "    self.add_node(node_from)\r\n",
        "    node = self.get_node(node_from)\r\n",
        "    if not node.is_link(node_to):\r\n",
        "      node.add_link(node_to)\r\n",
        "    self.add_node(node_to)\r\n",
        "    node = self.get_node(node_to)\r\n",
        "    if not node.is_link(node_from):\r\n",
        "      node.add_link(node_from)"
      ],
      "execution_count": 2,
      "outputs": []
    },
    {
      "cell_type": "code",
      "metadata": {
        "id": "Ws8IRuAs7LHw"
      },
      "source": [
        "import graphviz\r\n",
        "\r\n",
        "links = []"
      ],
      "execution_count": 3,
      "outputs": []
    },
    {
      "cell_type": "code",
      "metadata": {
        "id": "6nyUgmHa7PHY"
      },
      "source": [
        "def display_graph(graph, engine = 'fdp'):\r\n",
        "  graphic = graphviz.Graph(format='png')\r\n",
        "  graphic.edges([str(link[0]) + str(link[1]) for link in graph.get_links()])\r\n",
        "  graphic.engine = engine\r\n",
        "  return graphic"
      ],
      "execution_count": 4,
      "outputs": []
    },
    {
      "cell_type": "code",
      "metadata": {
        "id": "v8J6MdTl7ZKG",
        "outputId": "7598ba9b-307e-4c5d-f39d-cb87d5008773",
        "colab": {
          "base_uri": "https://localhost:8080/",
          "height": 189
        }
      },
      "source": [
        "nodes = ['a', 'b', 'c', 'd', 'e']\r\n",
        "links = [\r\n",
        "  ('a', 'b'), ('a', 'c'), ('a', 'd'), ('a', 'e'), ('b', 'c'), ('b', 'd'), ('b', 'e'), ('c', 'd'), ('c', 'e'),\r\n",
        "  ('d', 'e')\r\n",
        "]\r\n",
        "\r\n",
        "k5 = Graph(nodes, links)\r\n",
        "display_graph(k5, 'neato')"
      ],
      "execution_count": 11,
      "outputs": [
        {
          "output_type": "execute_result",
          "data": {
            "text/plain": [
              "<graphviz.dot.Graph at 0x7f3b85424c50>"
            ],
            "image/svg+xml": "<?xml version=\"1.0\" encoding=\"UTF-8\" standalone=\"no\"?>\n<!DOCTYPE svg PUBLIC \"-//W3C//DTD SVG 1.1//EN\"\n \"http://www.w3.org/Graphics/SVG/1.1/DTD/svg11.dtd\">\n<!-- Generated by graphviz version 2.40.1 (20161225.0304)\n -->\n<!-- Title: %3 Pages: 1 -->\n<svg width=\"146pt\" height=\"126pt\"\n viewBox=\"0.00 0.00 146.04 126.32\" xmlns=\"http://www.w3.org/2000/svg\" xmlns:xlink=\"http://www.w3.org/1999/xlink\">\n<g id=\"graph0\" class=\"graph\" transform=\"scale(1 1) rotate(0) translate(4 122.325)\">\n<title>%3</title>\n<polygon fill=\"#ffffff\" stroke=\"transparent\" points=\"-4,4 -4,-122.325 142.0397,-122.325 142.0397,4 -4,4\"/>\n<!-- d -->\n<g id=\"node1\" class=\"node\">\n<title>d</title>\n<ellipse fill=\"none\" stroke=\"#000000\" cx=\"27\" cy=\"-52.3429\" rx=\"27\" ry=\"18\"/>\n<text text-anchor=\"middle\" x=\"27\" y=\"-48.6429\" font-family=\"Times,serif\" font-size=\"14.00\" fill=\"#000000\">d</text>\n</g>\n<!-- e -->\n<g id=\"node2\" class=\"node\">\n<title>e</title>\n<ellipse fill=\"none\" stroke=\"#000000\" cx=\"111.0397\" cy=\"-44.6202\" rx=\"27\" ry=\"18\"/>\n<text text-anchor=\"middle\" x=\"111.0397\" y=\"-40.9202\" font-family=\"Times,serif\" font-size=\"14.00\" fill=\"#000000\">e</text>\n</g>\n<!-- d&#45;&#45;e -->\n<g id=\"edge1\" class=\"edge\">\n<title>d&#45;&#45;e</title>\n<path fill=\"none\" stroke=\"#000000\" d=\"M54.0533,-49.8569C63.6499,-48.975 74.4447,-47.983 84.0371,-47.1015\"/>\n</g>\n<!-- b -->\n<g id=\"node3\" class=\"node\">\n<title>b</title>\n<ellipse fill=\"none\" stroke=\"#000000\" cx=\"66.1349\" cy=\"-18\" rx=\"27\" ry=\"18\"/>\n<text text-anchor=\"middle\" x=\"66.1349\" y=\"-14.3\" font-family=\"Times,serif\" font-size=\"14.00\" fill=\"#000000\">b</text>\n</g>\n<!-- b&#45;&#45;d -->\n<g id=\"edge2\" class=\"edge\">\n<title>b&#45;&#45;d</title>\n<path fill=\"none\" stroke=\"#000000\" d=\"M49.765,-32.3655C47.6704,-34.2036 45.5257,-36.0857 43.4302,-37.9246\"/>\n</g>\n<!-- b&#45;&#45;e -->\n<g id=\"edge5\" class=\"edge\">\n<title>b&#45;&#45;e</title>\n<path fill=\"none\" stroke=\"#000000\" d=\"M86.4851,-30.0639C87.8775,-30.8893 89.2807,-31.7211 90.6731,-32.5466\"/>\n</g>\n<!-- c -->\n<g id=\"node4\" class=\"node\">\n<title>c</title>\n<ellipse fill=\"none\" stroke=\"#000000\" cx=\"47.5595\" cy=\"-100.325\" rx=\"27\" ry=\"18\"/>\n<text text-anchor=\"middle\" x=\"47.5595\" y=\"-96.625\" font-family=\"Times,serif\" font-size=\"14.00\" fill=\"#000000\">c</text>\n</g>\n<!-- b&#45;&#45;c -->\n<g id=\"edge9\" class=\"edge\">\n<title>b&#45;&#45;c</title>\n<path fill=\"none\" stroke=\"#000000\" d=\"M62.1043,-35.8633C58.9886,-49.672 54.6959,-68.6967 51.5822,-82.4966\"/>\n</g>\n<!-- c&#45;&#45;d -->\n<g id=\"edge7\" class=\"edge\">\n<title>c&#45;&#45;d</title>\n<path fill=\"none\" stroke=\"#000000\" d=\"M40.137,-83.0024C38.2967,-78.7074 36.3237,-74.1027 34.4806,-69.8013\"/>\n</g>\n<!-- c&#45;&#45;e -->\n<g id=\"edge3\" class=\"edge\">\n<title>c&#45;&#45;e</title>\n<path fill=\"none\" stroke=\"#000000\" d=\"M63.9072,-85.9796C73.3116,-77.7271 85.0947,-67.3873 94.5267,-59.1105\"/>\n</g>\n<!-- a -->\n<g id=\"node5\" class=\"node\">\n<title>a</title>\n<ellipse fill=\"none\" stroke=\"#000000\" cx=\"99.3302\" cy=\"-95.299\" rx=\"27\" ry=\"18\"/>\n<text text-anchor=\"middle\" x=\"99.3302\" y=\"-91.599\" font-family=\"Times,serif\" font-size=\"14.00\" fill=\"#000000\">a</text>\n</g>\n<!-- a&#45;&#45;d -->\n<g id=\"edge4\" class=\"edge\">\n<title>a&#45;&#45;d</title>\n<path fill=\"none\" stroke=\"#000000\" d=\"M78.7968,-83.1044C68.9401,-77.2506 57.1651,-70.2576 47.3345,-64.4193\"/>\n</g>\n<!-- a&#45;&#45;e -->\n<g id=\"edge10\" class=\"edge\">\n<title>a&#45;&#45;e</title>\n<path fill=\"none\" stroke=\"#000000\" d=\"M103.4915,-77.2888C104.5959,-72.5092 105.7882,-67.3489 106.8918,-62.5723\"/>\n</g>\n<!-- a&#45;&#45;b -->\n<g id=\"edge6\" class=\"edge\">\n<title>a&#45;&#45;b</title>\n<path fill=\"none\" stroke=\"#000000\" d=\"M91.7977,-77.7586C86.3651,-65.1082 79.0634,-48.1054 73.6377,-35.4709\"/>\n</g>\n<!-- a&#45;&#45;c -->\n<g id=\"edge8\" class=\"edge\">\n<title>a&#45;&#45;c</title>\n<path fill=\"none\" stroke=\"#000000\" d=\"M72.535,-97.9003C72.4363,-97.9099 72.3376,-97.9195 72.239,-97.929\"/>\n</g>\n</g>\n</svg>\n"
          },
          "metadata": {
            "tags": []
          },
          "execution_count": 11
        }
      ]
    },
    {
      "cell_type": "code",
      "metadata": {
        "id": "Re6EXmMpAPxg",
        "outputId": "19ecaada-91d3-474f-896b-f3b3430c6acb",
        "colab": {
          "base_uri": "https://localhost:8080/",
          "height": 294
        }
      },
      "source": [
        "nodes = ['a', 'b', 'c', 'd', 'e', 'f', 'g', 'h', 'i']\r\n",
        "links = [\r\n",
        "  ('a', 'b'), ('a', 'e'), ('a', 'f'), ('b', 'c'), ('b', 'g'), ('c', 'd'), ('c', 'h'), ('d', 'e'), ('d', 'i'),\r\n",
        "  ('e', 'j'), ('f', 'h'), ('f', 'i'), ('g', 'i'), ('g', 'j'), ('h', 'j')\r\n",
        "]\r\n",
        "\r\n",
        "petersen = Graph(nodes, links)\r\n",
        "display_graph(petersen, 'neato')"
      ],
      "execution_count": 12,
      "outputs": [
        {
          "output_type": "execute_result",
          "data": {
            "text/plain": [
              "<graphviz.dot.Graph at 0x7f3b85489350>"
            ],
            "image/svg+xml": "<?xml version=\"1.0\" encoding=\"UTF-8\" standalone=\"no\"?>\n<!DOCTYPE svg PUBLIC \"-//W3C//DTD SVG 1.1//EN\"\n \"http://www.w3.org/Graphics/SVG/1.1/DTD/svg11.dtd\">\n<!-- Generated by graphviz version 2.40.1 (20161225.0304)\n -->\n<!-- Title: %3 Pages: 1 -->\n<svg width=\"220pt\" height=\"205pt\"\n viewBox=\"0.00 0.00 220.08 205.42\" xmlns=\"http://www.w3.org/2000/svg\" xmlns:xlink=\"http://www.w3.org/1999/xlink\">\n<g id=\"graph0\" class=\"graph\" transform=\"scale(1 1) rotate(0) translate(4 201.4209)\">\n<title>%3</title>\n<polygon fill=\"#ffffff\" stroke=\"transparent\" points=\"-4,4 -4,-201.4209 216.0792,-201.4209 216.0792,4 -4,4\"/>\n<!-- d -->\n<g id=\"node1\" class=\"node\">\n<title>d</title>\n<ellipse fill=\"none\" stroke=\"#000000\" cx=\"48.5594\" cy=\"-146.031\" rx=\"27\" ry=\"18\"/>\n<text text-anchor=\"middle\" x=\"48.5594\" y=\"-142.331\" font-family=\"Times,serif\" font-size=\"14.00\" fill=\"#000000\">d</text>\n</g>\n<!-- e -->\n<g id=\"node2\" class=\"node\">\n<title>e</title>\n<ellipse fill=\"none\" stroke=\"#000000\" cx=\"132.6211\" cy=\"-74.6274\" rx=\"27\" ry=\"18\"/>\n<text text-anchor=\"middle\" x=\"132.6211\" y=\"-70.9274\" font-family=\"Times,serif\" font-size=\"14.00\" fill=\"#000000\">e</text>\n</g>\n<!-- d&#45;&#45;e -->\n<g id=\"edge1\" class=\"edge\">\n<title>d&#45;&#45;e</title>\n<path fill=\"none\" stroke=\"#000000\" d=\"M65.5705,-131.5814C80.2508,-119.1117 101.3336,-101.2036 115.9221,-88.8118\"/>\n</g>\n<!-- i -->\n<g id=\"node4\" class=\"node\">\n<title>i</title>\n<ellipse fill=\"none\" stroke=\"#000000\" cx=\"119.7092\" cy=\"-179.4209\" rx=\"27\" ry=\"18\"/>\n<text text-anchor=\"middle\" x=\"119.7092\" y=\"-175.7209\" font-family=\"Times,serif\" font-size=\"14.00\" fill=\"#000000\">i</text>\n</g>\n<!-- d&#45;&#45;i -->\n<g id=\"edge14\" class=\"edge\">\n<title>d&#45;&#45;i</title>\n<path fill=\"none\" stroke=\"#000000\" d=\"M70.6816,-156.4128C79.1666,-160.3947 88.849,-164.9386 97.3556,-168.9306\"/>\n</g>\n<!-- j -->\n<g id=\"node5\" class=\"node\">\n<title>j</title>\n<ellipse fill=\"none\" stroke=\"#000000\" cx=\"171.5101\" cy=\"-142.0433\" rx=\"27\" ry=\"18\"/>\n<text text-anchor=\"middle\" x=\"171.5101\" y=\"-138.3433\" font-family=\"Times,serif\" font-size=\"14.00\" fill=\"#000000\">j</text>\n</g>\n<!-- e&#45;&#45;j -->\n<g id=\"edge3\" class=\"edge\">\n<title>e&#45;&#45;j</title>\n<path fill=\"none\" stroke=\"#000000\" d=\"M142.4344,-91.6393C148.2847,-101.781 155.6911,-114.6204 161.5646,-124.8024\"/>\n</g>\n<!-- g -->\n<g id=\"node3\" class=\"node\">\n<title>g</title>\n<ellipse fill=\"none\" stroke=\"#000000\" cx=\"93.6236\" cy=\"-98.6663\" rx=\"27\" ry=\"18\"/>\n<text text-anchor=\"middle\" x=\"93.6236\" y=\"-94.9663\" font-family=\"Times,serif\" font-size=\"14.00\" fill=\"#000000\">g</text>\n</g>\n<!-- g&#45;&#45;i -->\n<g id=\"edge2\" class=\"edge\">\n<title>g&#45;&#45;i</title>\n<path fill=\"none\" stroke=\"#000000\" d=\"M99.4129,-116.5883C103.7357,-129.9708 109.6172,-148.1786 113.9362,-161.5489\"/>\n</g>\n<!-- g&#45;&#45;j -->\n<g id=\"edge8\" class=\"edge\">\n<title>g&#45;&#45;j</title>\n<path fill=\"none\" stroke=\"#000000\" d=\"M114.4958,-110.2905C125.6707,-116.5141 139.3966,-124.1584 150.5803,-130.387\"/>\n</g>\n<!-- h -->\n<g id=\"node6\" class=\"node\">\n<title>h</title>\n<ellipse fill=\"none\" stroke=\"#000000\" cx=\"107.5618\" cy=\"-140.2674\" rx=\"27\" ry=\"18\"/>\n<text text-anchor=\"middle\" x=\"107.5618\" y=\"-136.5674\" font-family=\"Times,serif\" font-size=\"14.00\" fill=\"#000000\">h</text>\n</g>\n<!-- h&#45;&#45;j -->\n<g id=\"edge4\" class=\"edge\">\n<title>h&#45;&#45;j</title>\n<path fill=\"none\" stroke=\"#000000\" d=\"M134.6816,-141.0205C137.8134,-141.1075 141.0088,-141.1962 144.1439,-141.2833\"/>\n</g>\n<!-- a -->\n<g id=\"node7\" class=\"node\">\n<title>a</title>\n<ellipse fill=\"none\" stroke=\"#000000\" cx=\"156.1411\" cy=\"-18\" rx=\"27\" ry=\"18\"/>\n<text text-anchor=\"middle\" x=\"156.1411\" y=\"-14.3\" font-family=\"Times,serif\" font-size=\"14.00\" fill=\"#000000\">a</text>\n</g>\n<!-- a&#45;&#45;e -->\n<g id=\"edge13\" class=\"edge\">\n<title>a&#45;&#45;e</title>\n<path fill=\"none\" stroke=\"#000000\" d=\"M148.8282,-35.6069C145.9693,-42.4899 142.6993,-50.3629 139.8487,-57.2259\"/>\n</g>\n<!-- f -->\n<g id=\"node8\" class=\"node\">\n<title>f</title>\n<ellipse fill=\"none\" stroke=\"#000000\" cx=\"185.0792\" cy=\"-101.5654\" rx=\"27\" ry=\"18\"/>\n<text text-anchor=\"middle\" x=\"185.0792\" y=\"-97.8654\" font-family=\"Times,serif\" font-size=\"14.00\" fill=\"#000000\">f</text>\n</g>\n<!-- a&#45;&#45;f -->\n<g id=\"edge5\" class=\"edge\">\n<title>a&#45;&#45;f</title>\n<path fill=\"none\" stroke=\"#000000\" d=\"M162.2781,-35.7221C167.189,-49.9034 174.0425,-69.6943 178.951,-83.8689\"/>\n</g>\n<!-- b -->\n<g id=\"node9\" class=\"node\">\n<title>b</title>\n<ellipse fill=\"none\" stroke=\"#000000\" cx=\"72.814\" cy=\"-20.8886\" rx=\"27\" ry=\"18\"/>\n<text text-anchor=\"middle\" x=\"72.814\" y=\"-17.1886\" font-family=\"Times,serif\" font-size=\"14.00\" fill=\"#000000\">b</text>\n</g>\n<!-- a&#45;&#45;b -->\n<g id=\"edge7\" class=\"edge\">\n<title>a&#45;&#45;b</title>\n<path fill=\"none\" stroke=\"#000000\" d=\"M128.8567,-18.9458C119.5537,-19.2683 109.1605,-19.6286 99.8751,-19.9505\"/>\n</g>\n<!-- f&#45;&#45;i -->\n<g id=\"edge6\" class=\"edge\">\n<title>f&#45;&#45;i</title>\n<path fill=\"none\" stroke=\"#000000\" d=\"M171.8506,-117.3206C160.5092,-130.8282 144.2539,-150.1883 132.9181,-163.6891\"/>\n</g>\n<!-- f&#45;&#45;h -->\n<g id=\"edge12\" class=\"edge\">\n<title>f&#45;&#45;h</title>\n<path fill=\"none\" stroke=\"#000000\" d=\"M163.0732,-112.5523C152.5096,-117.8264 139.8902,-124.1268 129.3546,-129.3869\"/>\n</g>\n<!-- b&#45;&#45;g -->\n<g id=\"edge15\" class=\"edge\">\n<title>b&#45;&#45;g</title>\n<path fill=\"none\" stroke=\"#000000\" d=\"M77.6405,-38.9278C81.0023,-51.493 85.4673,-68.1811 88.8234,-80.7248\"/>\n</g>\n<!-- c -->\n<g id=\"node10\" class=\"node\">\n<title>c</title>\n<ellipse fill=\"none\" stroke=\"#000000\" cx=\"27\" cy=\"-84.1094\" rx=\"27\" ry=\"18\"/>\n<text text-anchor=\"middle\" x=\"27\" y=\"-80.4094\" font-family=\"Times,serif\" font-size=\"14.00\" fill=\"#000000\">c</text>\n</g>\n<!-- b&#45;&#45;c -->\n<g id=\"edge11\" class=\"edge\">\n<title>b&#45;&#45;c</title>\n<path fill=\"none\" stroke=\"#000000\" d=\"M61.0158,-37.1695C54.2286,-46.5354 45.7247,-58.2704 38.9175,-67.6639\"/>\n</g>\n<!-- c&#45;&#45;d -->\n<g id=\"edge9\" class=\"edge\">\n<title>c&#45;&#45;d</title>\n<path fill=\"none\" stroke=\"#000000\" d=\"M33.1204,-101.688C36.0085,-109.9833 39.4493,-119.8656 42.3488,-128.1934\"/>\n</g>\n<!-- c&#45;&#45;h -->\n<g id=\"edge10\" class=\"edge\">\n<title>c&#45;&#45;h</title>\n<path fill=\"none\" stroke=\"#000000\" d=\"M45.685,-97.1343C58.607,-106.142 75.7387,-118.0842 88.6991,-127.1186\"/>\n</g>\n</g>\n</svg>\n"
          },
          "metadata": {
            "tags": []
          },
          "execution_count": 12
        }
      ]
    },
    {
      "cell_type": "markdown",
      "metadata": {
        "id": "QLhnKF-9BOth"
      },
      "source": [
        "Getting the in between is a work in progress. Also working to get the peterson graph to look cleaner"
      ]
    }
  ]
}