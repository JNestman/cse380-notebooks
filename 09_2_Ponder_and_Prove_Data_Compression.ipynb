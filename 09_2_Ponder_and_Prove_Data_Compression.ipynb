{
  "nbformat": 4,
  "nbformat_minor": 0,
  "metadata": {
    "colab": {
      "name": "09_2_Ponder_and_Prove_Data_Compression.ipynb",
      "provenance": []
    },
    "kernelspec": {
      "name": "python3",
      "display_name": "Python 3"
    }
  },
  "cells": [
    {
      "cell_type": "markdown",
      "metadata": {
        "id": "1rG4k7VvQ2WT"
      },
      "source": [
        "# Ponder and Prove Data Compression\n",
        "#### Due: Saturday, 6 March 2021, 11:59 pm."
      ]
    },
    {
      "cell_type": "markdown",
      "metadata": {
        "id": "W0WxE3IAQ2WU"
      },
      "source": [
        "# TODO Explore Huffman Trees and Huffman Codes\n"
      ]
    },
    {
      "cell_type": "markdown",
      "metadata": {
        "id": "w2vby9erSjOv"
      },
      "source": [
        "Your task is examine how to compress a *special piece of information* as compactly as possible, and **calculate various compression ratios**.\n",
        "\n",
        "Recall that the **compression ratio** of a variable-length encoding like Huffman encoding is the percentage $100(f - v)/f$, where $f$ is the number of bits per symbol of the smallest **fixed**-length encoding, and $v$ is the average number of bits per symbol with the variable-length encoding.\n",
        "\n",
        "For example, if there were 9 different symbols in a message, $f=4$ is the number of bits of the smallest fixed-length encoding, because $2^3 = 8$ (not enough for $9$) and $2^4 = 16$ (enough and to spare). If the variable-length encoding of the message had $v=3.12$, the compression ratio would be $100(4 - 3.12)/4 \\approx 22\\%$.\n",
        "\n",
        "Note that calculating the average number of bits per symbol is not strictly necessary. That's because an alternate and equivalent way is to calculate $100(ft - vt)/ft$, where $ft$ is the **total** number of bits encoded with the fixed encoding, and $vt$ is the **total** number of bits encoded with the variable-length encoding.\n",
        "\n",
        "The *special piece of information* to be compressed is a list of the first ten million primes. This is a list that starts\n",
        "\n",
        "|    |\n",
        "|----|\n",
        "|  2 |\n",
        "|  3 |\n",
        "|  5 |\n",
        "|  7 |\n",
        "| 11 |\n",
        "| 13 |\n",
        "| 17 |\n",
        "| 19 |\n",
        "| 23 |\n",
        "| 29 |\n",
        "\n",
        "  and ends\n",
        "\n",
        "|           |\n",
        "|-----------|\n",
        "| 179424551 |\n",
        "| 179424571 |\n",
        "| 179424577 |\n",
        "| 179424601 |\n",
        "| 179424611 |\n",
        "| 179424617 |\n",
        "| 179424629 |\n",
        "| 179424667 |\n",
        "| 179424671 |\n",
        "| 179424673 |\n",
        "\n",
        "As ASCII text stored in a file with one prime per line, the size of this data file is slightly over 89 megabytes. The goal is to compress this down to just over 5 megabytes (5589056 bytes, to be exact). That's a 94% compression ratio!\n",
        "\n",
        "Standard compression tools can only get about a 73% compression ratio for this ASCII data. A more clever approach is needed. Instead of compressing the list of prime numbers, compress a list of the *gaps* between them!\n",
        "\n",
        "It doesn't save much, just the unique (occurring only once) gap size of 1 between 2 and 3, but in the spirit of de Polignac's conjecture that every *even* number appears infinitely often as a gap between consecutive primes, just consider the even-sized gaps. The result will be a list that starts with 2 (the difference between 5 and 3), 2 (the difference between 7 and 5), 4 (the difference between 11 and 7), 2 (the difference between 13 and 11), 4 (the difference between 17 and 13), 2 (the difference between 19 and 17), 4 (the difference between 23 and 19), and 6 (the difference between 29 and 23).\n",
        "\n",
        "Generating this data is the first task. The algorithm for doing so is very straightforward:\n",
        "\n",
        "1. Find the gaps between consecutive odd primes.\n",
        "2. Store these gaps as a list of even numbers.\n",
        "\n",
        "Tabulating the results, the first ten gaps and the last ten gaps are as follows, where the numbers after the equals signs are the gaps to list:\n",
        "\n",
        "|                 |\n",
        "|-----------------|\n",
        "|  5  -   3  =  2 |\n",
        "|  7  -   5  =  2 |\n",
        "| 11  -   7  =  4 |\n",
        "| 13  -  11  =  2 |\n",
        "| 17  -  13  =  4 |\n",
        "| 19  -  17  =  2 |\n",
        "| 23  -  19  =  4 |\n",
        "| 29  -  23  =  6 |\n",
        "| 31  -  29  =  2 |\n",
        "| 37  -  31  =  6 |\n",
        "\n",
        "|                                |\n",
        "|--------------------------------|\n",
        "| 179424551  -  179424533  =  18 |\n",
        "| 179424571  -  179424551  =  20 |\n",
        "| 179424577  -  179424571  =   6 |\n",
        "| 179424601  -  179424577  =  24 |\n",
        "| 179424611  -  179424601  =  10 |\n",
        "| 179424617  -  179424611  =   6 |\n",
        "| 179424629  -  179424617  =  12 |\n",
        "| 179424667  -  179424629  =  38 |\n",
        "| 179424671  -  179424667  =   4 |\n",
        "| 179424673  -  179424671  =   2 |\n",
        "\n",
        "As a correctness check, see if your generated list of gaps has length 9999998.\n",
        "\n",
        "The next step is to count how many times each gap size occurs, so that for the Huffman encoding scheme, the larger the frequency of occurrence, the smaller the number of bits encoding that gap size.\n",
        "\n",
        "As a correctness check, here are the first ten and the last ten gap counts:\n",
        "\n",
        "|  Gap | Count   |\n",
        "|------|---------|\n",
        "|    2 |  738597 |\n",
        "|    4 |  738717 |\n",
        "|    6 | 1297540 |\n",
        "|    8 |  566151 |\n",
        "|   10 |  729808 |\n",
        "|   12 |  920661 |\n",
        "|   14 |  503524 |\n",
        "|   16 |  371677 |\n",
        "|   18 |  667734 |\n",
        "|   20 |  354267 |\n",
        "|      |         |\n",
        "|  190 |       1 |\n",
        "|  192 |       3 |\n",
        "|  194 |       1 |\n",
        "|  196 |       1 |\n",
        "|  198 |       6 |\n",
        "|  202 |       2 |\n",
        "|  204 |       3 |\n",
        "|  210 |       4 |\n",
        "|  220 |       1 |\n",
        "|  222 |       1 |\n",
        "\n",
        "Note two things from these partial gap counts:\n",
        "\n",
        "1. Small even numbers (< 100) are well represented, larger ones (< 1000) less so.\n",
        "2. Ten million primes aren't enough to have *every* even number represented; for example, 200, 206, 208, 212, 214, 216, and 218 do not appear even once.\n"
      ]
    },
    {
      "cell_type": "code",
      "metadata": {
        "id": "WM1uQbU-oeNA",
        "outputId": "d0beca62-651f-4b64-9731-d8124f92dfc6",
        "colab": {
          "base_uri": "https://localhost:8080/"
        }
      },
      "source": [
        "!pip install pyprimesieve"
      ],
      "execution_count": 19,
      "outputs": [
        {
          "output_type": "stream",
          "text": [
            "Requirement already satisfied: pyprimesieve in /usr/local/lib/python3.7/dist-packages (0.1.6)\n"
          ],
          "name": "stdout"
        }
      ]
    },
    {
      "cell_type": "code",
      "metadata": {
        "id": "zHZNrod8oBE8",
        "outputId": "93cbaa17-dde2-49d9-b216-963602c9c334",
        "colab": {
          "base_uri": "https://localhost:8080/"
        }
      },
      "source": [
        "from pyprimesieve import primes\r\n",
        "import numpy as np\r\n",
        "ten_millionth_prime = 179424673\r\n",
        "\r\n",
        "ten_million_primes = list(primes(ten_millionth_prime+1))\r\n",
        "\r\n",
        "def gap_list(x):\r\n",
        "    list_of_gaps = []\r\n",
        "    for i in range(2, len(x)):\r\n",
        "      gap = x[i] - x[i-1]\r\n",
        "      list_of_gaps.append(gap)\r\n",
        "    \r\n",
        "    return list_of_gaps\r\n",
        "\r\n",
        "gaps = gap_list(ten_million_primes)\r\n",
        "np_gap_array = np.array(gaps) \r\n",
        "unique, counts = np.unique(np_gap_array, return_counts=True)\r\n",
        "gap_counts = dict(zip(unique, counts))\r\n",
        "\r\n",
        "\r\n",
        "\r\n",
        "print(\"Gap Count: \", gap_counts)"
      ],
      "execution_count": 20,
      "outputs": [
        {
          "output_type": "stream",
          "text": [
            "Gap Count:  {2: 738597, 4: 738717, 6: 1297540, 8: 566151, 10: 729808, 12: 920661, 14: 503524, 16: 371677, 18: 667734, 20: 354267, 22: 307230, 24: 453215, 26: 211203, 28: 229177, 30: 398713, 32: 123123, 34: 129043, 36: 206722, 38: 94682, 40: 111546, 42: 159956, 44: 64866, 46: 54931, 48: 93693, 50: 52183, 52: 38800, 54: 64157, 56: 32224, 58: 27985, 60: 55305, 62: 16763, 64: 17374, 66: 30960, 68: 12368, 70: 17475, 72: 17255, 74: 8540, 76: 7253, 78: 13758, 80: 6760, 82: 4791, 84: 9818, 86: 3411, 88: 3454, 90: 7056, 92: 2259, 94: 2058, 96: 3544, 98: 1831, 100: 1923, 102: 2374, 104: 1168, 106: 933, 108: 1634, 110: 941, 112: 711, 114: 1125, 116: 439, 118: 433, 120: 948, 122: 287, 124: 318, 126: 533, 128: 183, 130: 211, 132: 301, 134: 128, 136: 100, 138: 210, 140: 140, 142: 90, 144: 123, 146: 46, 148: 67, 150: 94, 152: 52, 154: 43, 156: 57, 158: 19, 160: 27, 162: 27, 164: 20, 166: 9, 168: 25, 170: 18, 172: 4, 174: 10, 176: 11, 178: 12, 180: 10, 182: 5, 184: 4, 186: 3, 188: 1, 190: 1, 192: 3, 194: 1, 196: 1, 198: 6, 202: 2, 204: 3, 210: 4, 220: 1, 222: 1}\n"
          ],
          "name": "stdout"
        }
      ]
    },
    {
      "cell_type": "markdown",
      "metadata": {
        "id": "7CUIw8_k03JJ"
      },
      "source": [
        "# TODO Determine Exact Size of Data to be Compressed\n"
      ]
    },
    {
      "cell_type": "markdown",
      "metadata": {
        "id": "wB4sXf0X09Gv"
      },
      "source": [
        "Without actually doing it, imagine creating an ASCII file containing the first ten million primes, represented in decimal, one prime per line. Calculate the size of this file, so you can show an exceptional compression ratio from it (see below).\n",
        "\n",
        "Using a binary encoding instead of ASCII, each prime requires 32 bits (4 bytes), so the size of a binary file is easily determined.\n",
        "\n",
        "Using a fixed-width encoding of the gap counts, however, requires knowing how many different gap sizes there are, after which the calculation is straightforward."
      ]
    },
    {
      "cell_type": "code",
      "metadata": {
        "id": "mJd6SGoaroJT",
        "outputId": "96f22234-42a6-485b-847f-d4eb83de2776",
        "colab": {
          "base_uri": "https://localhost:8080/"
        }
      },
      "source": [
        "from math import ceil, log10, log2, floor, log\r\n",
        "\r\n",
        "bits = 0\r\n",
        "for prime in ten_million_primes:\r\n",
        "  bits += (len(str(prime)) * 8)\r\n",
        "\r\n",
        "nl_bits = 9999999 * 8\r\n",
        "total_bytes = (nl_bits + bits) / 8\r\n",
        "total_megabytes = total_bytes / 2 ** 20\r\n",
        "\r\n",
        "print(\"Total megabytes: \", total_megabytes)"
      ],
      "execution_count": 21,
      "outputs": [
        {
          "output_type": "stream",
          "text": [
            "Total megabytes:  89.15371799468994\n"
          ],
          "name": "stdout"
        }
      ]
    },
    {
      "cell_type": "code",
      "metadata": {
        "id": "WAFZWsHDuM2H",
        "outputId": "c8e7adf0-2d15-47b3-ebd6-49583e85eac7",
        "colab": {
          "base_uri": "https://localhost:8080/"
        }
      },
      "source": [
        "ceil(log2(len(set(gaps))))"
      ],
      "execution_count": 22,
      "outputs": [
        {
          "output_type": "execute_result",
          "data": {
            "text/plain": [
              "7"
            ]
          },
          "metadata": {
            "tags": []
          },
          "execution_count": 22
        }
      ]
    },
    {
      "cell_type": "code",
      "metadata": {
        "id": "Diw5cBJOuWs6",
        "outputId": "41b0ec2a-2aee-473b-f8f3-82449ff655b5",
        "colab": {
          "base_uri": "https://localhost:8080/"
        }
      },
      "source": [
        "# 1K = 1024 bytes, 1M = 2 ** 20\r\n",
        "2 ** 20\r\n",
        "# 93.48445"
      ],
      "execution_count": 23,
      "outputs": [
        {
          "output_type": "execute_result",
          "data": {
            "text/plain": [
              "1048576"
            ]
          },
          "metadata": {
            "tags": []
          },
          "execution_count": 23
        }
      ]
    },
    {
      "cell_type": "code",
      "metadata": {
        "id": "3M8ZolKEuZ3S",
        "outputId": "05713d9a-70ea-4c27-f1f6-2aeb1ff9ba84",
        "colab": {
          "base_uri": "https://localhost:8080/"
        }
      },
      "source": [
        "len(ten_million_primes)"
      ],
      "execution_count": 24,
      "outputs": [
        {
          "output_type": "execute_result",
          "data": {
            "text/plain": [
              "10000000"
            ]
          },
          "metadata": {
            "tags": []
          },
          "execution_count": 24
        }
      ]
    },
    {
      "cell_type": "code",
      "metadata": {
        "id": "BOnlqq_ZudOE"
      },
      "source": [
        "def get_num_digits(n):\r\n",
        "  return len(str(n))\r\n",
        "\r\n",
        "def get_num_digits_no_str(n):\r\n",
        "  return floor(log10(n)) + 1\r\n",
        "\r\n",
        "def get_line_size(n):\r\n",
        "  return get_num_digits_no_str(n) + 1"
      ],
      "execution_count": 25,
      "outputs": []
    },
    {
      "cell_type": "code",
      "metadata": {
        "id": "Xb9GCcbzuhnt"
      },
      "source": [
        "total_size_in_digits = sum(map(lambda p: get_num_digits_no_str(p), ten_million_primes))"
      ],
      "execution_count": 26,
      "outputs": []
    },
    {
      "cell_type": "code",
      "metadata": {
        "id": "fy6y58vpuyoQ",
        "outputId": "4649edea-26e7-4fd4-fb93-e9e717b4de49",
        "colab": {
          "base_uri": "https://localhost:8080/"
        }
      },
      "source": [
        "total_size_in_bits = total_size_in_digits * 8\r\n",
        "(total_size_in_digits + 10 ** 7) / 2 ** 20"
      ],
      "execution_count": 27,
      "outputs": [
        {
          "output_type": "execute_result",
          "data": {
            "text/plain": [
              "89.15371894836426"
            ]
          },
          "metadata": {
            "tags": []
          },
          "execution_count": 27
        }
      ]
    },
    {
      "cell_type": "markdown",
      "metadata": {
        "id": "9HZChUyC09tJ"
      },
      "source": [
        "# TODO Use Functional Python\n"
      ]
    },
    {
      "cell_type": "markdown",
      "metadata": {
        "id": "j7vG1XqY1CaV"
      },
      "source": [
        "You are encouraged to use the [anytree](https://pypi.org/project/anytree) Python library, which has a nice exporter by way of which you can graphically view trees. (You may recall using this in DM1, and thus know that **anytree** depends on [graphviz](https://graphviz.org), which you also used.)\n",
        "\n",
        "This library uses the object-oriented features of Python to create and visualize trees. You are encouraged to use the functional features of Python as much as possible, achieving your results not by using some existing third-party libraries for building Huffman Trees and Codes, but writing your own code as cleanly and elegantly as you can."
      ]
    },
    {
      "cell_type": "code",
      "metadata": {
        "id": "U-Awf5yNvHZp",
        "outputId": "53cfbe41-2378-484a-f111-24712832542c",
        "colab": {
          "base_uri": "https://localhost:8080/"
        }
      },
      "source": [
        "!pip install anytree\r\n",
        "from anytree import Node, RenderTree, PreOrderIter, Walker\r\n",
        "from anytree.util import leftsibling, rightsibling\r\n",
        "from anytree.exporter.dotexporter import DotExporter\r\n",
        "from collections import Counter\r\n",
        "from queue import PriorityQueue\r\n",
        "\r\n",
        "class GapNode(Node):\r\n",
        "  def __lt__(self, other):\r\n",
        "    return self.count < other.count\r\n",
        "\r\n",
        "node_counter = 0\r\n",
        "def next_node_name():\r\n",
        "  global node_counter\r\n",
        "  name = 'gn' + str(node_counter)\r\n",
        "  node_counter += 1\r\n",
        "  return name\r\n",
        "\r\n",
        "def new_node(gp, ct):\r\n",
        "  return GapNode(next_node_name(), gap = gp, count = ct)\r\n",
        "\r\n",
        "def new_internal_node(left, right):\r\n",
        "  return GapNode(next_node_name(), children = [left, right],\r\n",
        "                 gap = 0, count = left.count + right.count)\r\n",
        "\r\n",
        "def make_huffman_tree(gaps_list):\r\n",
        "  gap_dict = Counter(gaps_list)\r\n",
        "  q = PriorityQueue()\r\n",
        "  for key, val in gap_dict.items():\r\n",
        "    q.put(new_node(key, val))\r\n",
        "\r\n",
        "  while q.qsize() > 1:\r\n",
        "    left = q.get()\r\n",
        "    right = q.get()\r\n",
        "    q.put(new_internal_node(left, right))\r\n",
        "\r\n",
        "  return q.get()\r\n",
        "\r\n",
        "def get_codes(root):\r\n",
        "  leaves = [node for node in PreOrderIter(root, filter_=lambda n: not n.children)]\r\n",
        "  codes = {}\r\n",
        "  w = Walker()\r\n",
        "  for leaf in leaves:\r\n",
        "    path = w.walk(leaf, root)[0]\r\n",
        "    code = ''\r\n",
        "    for node in path:\r\n",
        "      code = ('1' if leftsibling(node) else '0') + code\r\n",
        "    codes[leaf.gap] = tuple([code, leaf.count])\r\n",
        "  return codes\r\n",
        "\r\n",
        "def compression_ratio(f, v):\r\n",
        "  return 100 * (f - v) / f\r\n",
        "\r\n",
        "def get_encoded_size(codes):\r\n",
        "  return sum([len(code) * count for gap, (code, count) in codes.items()])\r\n",
        "\r\n",
        "def get_fixed_size(codes):\r\n",
        "  num_keys = len(codes)\r\n",
        "  num_bits_per_key = ceil(log(num_keys, 2))\r\n",
        "  return sum([num_bits_per_key * count for gap, (code, count) in codes.items()])\r\n",
        "\r\n",
        "def compression_size(codes):\r\n",
        "  return compression_ratio(get_fixed_size(codes), get_encoded_size(codes))\r\n",
        "\r\n",
        "def get_bin_size(codes):\r\n",
        "  return 32 * len(ten_million_primes)\r\n",
        "\r\n",
        "def get_ascii_size(codes):\r\n",
        "  return sum([len(str(prime) + '\\n') * 8 for prime in ten_million_primes])"
      ],
      "execution_count": 28,
      "outputs": [
        {
          "output_type": "stream",
          "text": [
            "Requirement already satisfied: anytree in /usr/local/lib/python3.7/dist-packages (2.8.0)\n",
            "Requirement already satisfied: six>=1.9.0 in /usr/local/lib/python3.7/dist-packages (from anytree) (1.15.0)\n"
          ],
          "name": "stdout"
        }
      ]
    },
    {
      "cell_type": "code",
      "metadata": {
        "id": "xD270aI4xmx1",
        "outputId": "61c5d92e-bb57-4e11-b386-d1f93cd4a261",
        "colab": {
          "base_uri": "https://localhost:8080/"
        }
      },
      "source": [
        "treeroot = make_huffman_tree(gaps)\r\n",
        "codes = get_codes(treeroot)\r\n",
        "print(\"Compression ratio:\",compression_size(codes))"
      ],
      "execution_count": 29,
      "outputs": [
        {
          "output_type": "stream",
          "text": [
            "Compression ratio: 36.12516865360516\n"
          ],
          "name": "stdout"
        }
      ]
    },
    {
      "cell_type": "code",
      "metadata": {
        "id": "ye1YDgztxnt4",
        "outputId": "228fb74a-c1ec-407a-fdd4-997cc41a8b0f",
        "colab": {
          "base_uri": "https://localhost:8080/"
        }
      },
      "source": [
        "b = compression_ratio(get_bin_size(codes), get_encoded_size(codes))\r\n",
        "print(\"Binary compression ratio:\", b )"
      ],
      "execution_count": 30,
      "outputs": [
        {
          "output_type": "stream",
          "text": [
            "Binary compression ratio: 86.0273834375\n"
          ],
          "name": "stdout"
        }
      ]
    },
    {
      "cell_type": "code",
      "metadata": {
        "id": "B6ONCokExqL6",
        "outputId": "20fabe42-e4a3-4d63-c348-a0fff07be8d7",
        "colab": {
          "base_uri": "https://localhost:8080/"
        }
      },
      "source": [
        "a = compression_ratio(get_ascii_size(primes), get_encoded_size(codes))\r\n",
        "print(\"ASCII compression ratio:\", a)"
      ],
      "execution_count": 31,
      "outputs": [
        {
          "output_type": "stream",
          "text": [
            "ASCII compression ratio: 94.02141572742846\n"
          ],
          "name": "stdout"
        }
      ]
    },
    {
      "cell_type": "markdown",
      "metadata": {
        "id": "TUB4mD8u1DCa"
      },
      "source": [
        "# TODO Achieve Target Compression Ratios"
      ]
    },
    {
      "cell_type": "markdown",
      "metadata": {
        "id": "8Vw71EqJ18eE"
      },
      "source": [
        "Your solution should correctly compute the following three compression ratios:\n",
        "\n",
        "| Ratio       | Value              |\n",
        "|-------------|--------------------|\n",
        "| From fixed  | 36.125168653605158 |\n",
        "| From binary |              86.03 |\n",
        "| From ASCII  |              94.02 | \n"
      ]
    },
    {
      "cell_type": "markdown",
      "metadata": {
        "id": "81dbKwHenxnT"
      },
      "source": [
        "# TODO My Report on What I Did and What I Learned"
      ]
    },
    {
      "cell_type": "markdown",
      "metadata": {
        "id": "C8BeiIern33B"
      },
      "source": [
        "## Fun\n"
      ]
    },
    {
      "cell_type": "markdown",
      "metadata": {
        "id": "ElukRLoezyxd"
      },
      "source": [
        "I found enjoyment in the journey. Overall, I still don't think I have the best understanding of the compression but I managed to get them to work correctly."
      ]
    },
    {
      "cell_type": "markdown",
      "metadata": {
        "id": "OzOkZ3son-u9"
      },
      "source": [
        "## New"
      ]
    },
    {
      "cell_type": "markdown",
      "metadata": {
        "id": "3-nYIdEUz4x5"
      },
      "source": [
        "I learned about the usefullnes of trees in unique applications, such as file compression. I didn't really understand how something can be shrunk down to a smaller size without losing data but it made more sense this week."
      ]
    },
    {
      "cell_type": "markdown",
      "metadata": {
        "id": "mJHvoj6GokaZ"
      },
      "source": [
        "## Meaningful\n"
      ]
    },
    {
      "cell_type": "markdown",
      "metadata": {
        "id": "XOxh3XFTz-6N"
      },
      "source": [
        "I learned better how to construct a huffman tree and hopefully I'll be able to use that knowledge in the future."
      ]
    },
    {
      "cell_type": "markdown",
      "metadata": {
        "id": "_RBE03fhpNUG"
      },
      "source": [
        "## Other"
      ]
    },
    {
      "cell_type": "markdown",
      "metadata": {
        "id": "d-sXEeq60C3W"
      },
      "source": [
        ""
      ]
    },
    {
      "cell_type": "markdown",
      "metadata": {
        "id": "Nrk-8EmgW4NP"
      },
      "source": [
        "# TODO What is True?\n",
        "Click on each warranted checkbox to toggle it to True (or back to False). \n",
        "\n",
        "NOTE: *This only works in Colab. If you run it in some other Jupyter notebook client/server environment you may have to change False to True (or vice versa) manually.*\n",
        "\n",
        "This self-assessment is subject to revision by a grader."
      ]
    },
    {
      "cell_type": "code",
      "metadata": {
        "id": "qGAjzgVRXR4M",
        "cellView": "form"
      },
      "source": [
        "#@markdown ## What is True about what I did?\n",
        "#@markdown ### I had fun.\n",
        "cb00 = True #@param {type:'boolean'}\n",
        "#@markdown ### I learned something new.\n",
        "cb01 = True #@param {type:'boolean'}\n",
        "#@markdown ### I achieved something meaningful, or something I can build upon at a later time.\n",
        "cb02 = True #@param {type:'boolean'}\n",
        "#@markdown ## What is True about my report?\n",
        "#@markdown ### I wrote a sufficient number of well-written sentences.\n",
        "cb03 = True #@param {type:'boolean'}\n",
        "#@markdown ### My report is free of mechanical infelicities.\n",
        "cb04 = True #@param {type:'boolean'}\n",
        "#@markdown ### I used Grammarly (or something better described in my report) to check for MIs.\n",
        "cb05 = True #@param {type:'boolean'}\n",
        "#@markdown ### I reported on any connections I found between these problems and something I already know. \n",
        "cb06 = True #@param {type:'boolean'}\n",
        "#@markdown ### I reported who were and what contribution each of my collaborators made.\n",
        "cb07 = True #@param {type:'boolean'}\n",
        "#@markdown ## What is True about my calculations?\n",
        "#@markdown ### I correctly calculated the number of times each gap size occurs. \n",
        "cb08 = True #@param {type:'boolean'}\n",
        "#@markdown ### I correctly calculated the number of bits per gap size with a fixed encoding.\n",
        "cb09 = True #@param {type:'boolean'}\n",
        "#@markdown ### I correctly calculated the total number of bits encoded with the Huffman encoding.\n",
        "cb10 = True #@param {type:'boolean'}\n",
        "#@markdown ### I correctly calculated the total number of bits encoded with the fixed encoding.\n",
        "cb11 = True #@param {type:'boolean'}\n",
        "#@markdown ### I correctly calculated the compression ratio from this fixed encoding.\n",
        "cb12 = True #@param {type:'boolean'}\n",
        "#@markdown ### I correctly calculated the size of the first ten million primes encoded as 32-bit integer binary data.\n",
        "cb13 = True #@param {type:'boolean'}\n",
        "#@markdown ### I correctly calculated the compression ratio from the binary size.\n",
        "cb14 = True #@param {type:'boolean'}\n",
        "#@markdown ### I correctly calculated the size of the first ten million primes encoded as ASCII data.\n",
        "cb15 = True #@param {type:'boolean'}\n",
        "#@markdown ### I correctly calculated the compression ratio from the ASCII size (just the primes, nothing else).\n",
        "cb16 = True #@param {type:'boolean'}"
      ],
      "execution_count": 32,
      "outputs": []
    },
    {
      "cell_type": "markdown",
      "metadata": {
        "id": "q8KESLBANSkC"
      },
      "source": [
        "## DO NOT CHANGE ANYTHING IN THE NEXT CODE CELL!!\n",
        "### Delete this cell and the following ones before submitting your work."
      ]
    },
    {
      "cell_type": "code",
      "metadata": {
        "id": "rJ_vaL0DWwoc",
        "outputId": "0983dc44-eb91-4bd4-f1ea-d9884eff5166",
        "colab": {
          "base_uri": "https://localhost:8080/"
        }
      },
      "source": [
        "points_for_what_I_did = [5]*3\n",
        "points_for_my_report = [8]*5\n",
        "points_for_my_calculations = [5]*9\n",
        "points = points_for_what_I_did + points_for_my_report + points_for_my_calculations\n",
        "# cb is short for checkbox\n",
        "total = sum(map(lambda n, p: p if eval(f'cb{n:02}') else 0,\n",
        "                range(len(points)), points))             \n",
        "total"
      ],
      "execution_count": 33,
      "outputs": [
        {
          "output_type": "execute_result",
          "data": {
            "text/plain": [
              "100"
            ]
          },
          "metadata": {
            "tags": []
          },
          "execution_count": 33
        }
      ]
    },
    {
      "cell_type": "markdown",
      "metadata": {
        "id": "muxeYgQQKGEU"
      },
      "source": [
        "# For graders"
      ]
    },
    {
      "cell_type": "code",
      "metadata": {
        "id": "c0ldoieNKMTU"
      },
      "source": [
        "#@markdown ---\n",
        "number_of_MIs_found = 0 #@param {type: 'slider', min: 0, max: 5}\n",
        "#@markdown ---\n"
      ],
      "execution_count": 34,
      "outputs": []
    }
  ]
}